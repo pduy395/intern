{
 "cells": [
  {
   "cell_type": "code",
   "execution_count": 5,
   "metadata": {},
   "outputs": [],
   "source": [
    "from langchain_community.vectorstores import FAISS\n",
    "from langchain_text_splitters import MarkdownTextSplitter,RecursiveCharacterTextSplitter\n",
    "from langchain.prompts import ChatPromptTemplate\n",
    "\n",
    "from langchain_community.llms import Ollama\n",
    "\n",
    "from langchain_community.embeddings import HuggingFaceEmbeddings\n",
    "from langchain_community.vectorstores import FAISS\n",
    "import tqdm\n",
    "import os\n",
    "\n",
    "from langchain_core.output_parsers import StrOutputParser\n",
    "from langchain_core.runnables import RunnablePassthrough\n"
   ]
  },
  {
   "cell_type": "code",
   "execution_count": 2,
   "metadata": {},
   "outputs": [],
   "source": [
    "from langchain.document_loaders import PyPDFLoader\n",
    "#from langchain_community.document_loaders import WebBaseLoader\n",
    "\n",
    "loader = PyPDFLoader(\"docs/Sách Deep Learning cơ bản.pdf\")\n",
    "# loader = WebBaseLoader(\"https://docs.smith.langchain.com/user_guide\")\n",
    "\n",
    "pages = loader.load()"
   ]
  },
  {
   "cell_type": "code",
   "execution_count": 34,
   "metadata": {},
   "outputs": [],
   "source": [
    "\n",
    "# text_splitter = MarkdownTextSplitter(\n",
    "#     chunk_size=1000,\n",
    "#     chunk_overlap=200,\n",
    "# )\n",
    "text_splitter = RecursiveCharacterTextSplitter(chunk_size=1000, chunk_overlap=200)\n"
   ]
  },
  {
   "cell_type": "code",
   "execution_count": 37,
   "metadata": {},
   "outputs": [],
   "source": [
    "docs = text_splitter.split_documents(pages)\n",
    "for idx, text in enumerate(docs):\n",
    "    text.metadata[\"id\"] = idx"
   ]
  },
  {
   "cell_type": "code",
   "execution_count": 39,
   "metadata": {},
   "outputs": [
    {
     "name": "stdout",
     "output_type": "stream",
     "text": [
      "page_content='3\\nLời mở đầu\\nGiới thiệu về Deep Learning\\nNhững năm gần đây, AI - Artificial Intelligence (Trí Tuệ Nhân Tạo), và cụ thể hơn là Machine\\nLearning (Máy Học) nổi lên như một minh chứng của cuộc cách mạng công nghiệp lần thứ tư (1 -\\nđộng cơ hơi nước, 2 - năng lượng điện, 3 - công nghệ thông tin). AI hiện diện trong mọi lĩnh vực\\ncủa đời sống con người, từ kinh tế, giáo dục, y khoa cho đến những công việc nhà, giải trí hay thậm\\nchí là trong quân sự. Những ứng dụng nổi bật trong việc phát triển AI đến từ nhiều lĩnh vực để giải\\nquyết nhiều vấn đề khác nhau. Nhưng những đột phá phần nhiều đến từ Deep Learning (học sâu) -\\nmột mảng nhỏ đang mở rộng dần đến từng loại công việc, từ đơn giản đến phức tạp. Deep Learning\\nđã giúp máy tính thực thi những việc tưởng chừng như không thể vào 15 năm trước: phân loại cả\\nngàn vật thể khác nhau trong các bức ảnh, tự tạo chú thích cho ảnh, bắt chước giọng nói và chữ viết\\ncủa con người, giao tiếp với con người, hay thậm chí cả sáng tác văn, phim, ảnh, âm nhạc.' metadata={'source': 'docs/Sách Deep Learning cơ bản.pdf', 'page': 2, 'id': 1}\n"
     ]
    }
   ],
   "source": [
    "print(docs[1])"
   ]
  },
  {
   "cell_type": "code",
   "execution_count": 6,
   "metadata": {},
   "outputs": [
    {
     "name": "stderr",
     "output_type": "stream",
     "text": [
      "No sentence-transformers model found with name VoVanPhuc/sup-SimCSE-VietNamese-phobert-base. Creating a new one with MEAN pooling.\n"
     ]
    }
   ],
   "source": [
    "\n",
    "\n",
    "model =\"VoVanPhuc/sup-SimCSE-VietNamese-phobert-base\"\n",
    "\n",
    "embeddings = HuggingFaceEmbeddings(model_name = model)\n"
   ]
  },
  {
   "cell_type": "code",
   "execution_count": 40,
   "metadata": {},
   "outputs": [],
   "source": [
    "vectorstore = FAISS.from_documents(docs, embeddings)\n",
    "vectorstore.save_local(\"faiss_index\")\n"
   ]
  },
  {
   "cell_type": "code",
   "execution_count": 7,
   "metadata": {},
   "outputs": [],
   "source": [
    "vectorstore = FAISS.load_local(\"faiss_index\", embeddings, allow_dangerous_deserialization=True)"
   ]
  },
  {
   "cell_type": "markdown",
   "metadata": {},
   "source": [
    "# Reranking"
   ]
  },
  {
   "cell_type": "code",
   "execution_count": 8,
   "metadata": {},
   "outputs": [
    {
     "name": "stdout",
     "output_type": "stream",
     "text": [
      "Document 1:\n",
      "\n",
      "văn. Đoạn đầu tiên \"Mặt trời mọc ở hướng ...\", ta có thể chỉ sử dụng các từ trước trong câu để đoán\n",
      "là đông. Tuy nhiên, với đoạn, \"Tôi là người Việt Nam. Tôi đang sống ở nước ngoài. Tôi có thể nói\n",
      "trôi chảy tiếng ...\" thì rõ ràng là chỉ sử dụng từ trong câu đấy hoặc câu trước là không thể dự đoán\n",
      "được từ cần điền là Việt. Ta cần các thông tin từ state ở trước đó rất xa => cần long term memory\n",
      "điều mà RNN không làm được => Cần một mô hình mới để giải quyết vấn đề này => Long short\n",
      "term memory (LSTM) ra đời.\n",
      "16.2 Mô hình LSTM\n",
      "Ở state thứ t của mô hình LSTM:\n",
      "•Output: ct,ht, ta gọi c là cell state, h là hidden state.\n",
      "•Input: ct−1,ht−1,xt. Trong đó xtlà input ở state thứ t của model. ct−1,ht−1là output của layer\n",
      "trước. h đóng vai trò khá giống như s ở RNN, trong khi c là điểm mới của LSTM.\n",
      "Hình 16.2: Mô hình LSTM [25]\n",
      "Metadata: {'source': 'docs/Sách Deep Learning cơ bản.pdf', 'page': 205, 'id': 285}\n",
      "----------------------------------------------------------------------------------------------------\n",
      "Document 2:\n",
      "\n",
      "15. Recurrent neural network\n",
      "Deep learning có 2 mô hình lớn là Convolutional Neural Network (CNN) cho bài toán có input là\n",
      "ảnh và Recurrent neural network (RNN) cho bài toán dữ liệu dạng chuỗi (sequence). Tôi đã giới\n",
      "thiệu về Convolutional Neural Network (CNN) và các ứng dụng của deep learning trong computer\n",
      "vision bao gồm: classification, object detection, segmentation. Có thể nói là tương đối đầy đủ các\n",
      "dạng bài toán liên quan đến CNN. Bài này tôi sẽ giới thiệu về RNN.\n",
      "15.1 Recurrent Neural Network là gì?\n",
      "Bài toán: Cần phân loại hành động của người trong video, input là video 30s, output là phân loại\n",
      "hành động, ví dụ: đứng, ngồi, chạy, đánh nhau, bắn súng,...\n",
      "Khi xử lý video ta hay gặp khái niệm FPS (frame per second) tức là bao nhiêu frame (ảnh)\n",
      "mỗi giây. Ví dụ 1 FPS với video 30s tức là lấy ra từ video 30 ảnh, mỗi giây một ảnh để xử lý.\n",
      "Ta dùng 1 FPS cho video input ở bài toán trên, tức là lấy ra 30 ảnh từ video, ảnh 1 ở giây 1,\n",
      "Metadata: {'source': 'docs/Sách Deep Learning cơ bản.pdf', 'page': 198, 'id': 271}\n",
      "----------------------------------------------------------------------------------------------------\n",
      "Document 3:\n",
      "\n",
      "13.2 Faster R-CNN 183\n",
      "13.2.3 Faster R-CNN\n",
      "Faster R-CNN không dùng thuật toán selective search để lấy ra các region proposal, mà nó thêm\n",
      "một mạng CNN mới gọi là Region Proposal Network (RPN) để tìm các region proposal.\n",
      "Hình 13.8: Kiến trúc mới Faster R-CNN [18]\n",
      "Đầu tiên cả bức ảnh được cho qua pre-trained model để lấy feature map. Sau đó feature map được\n",
      "dùng cho Region Proposal Network để lấy được các region proposal. Sau khi lấy được vị trí các\n",
      "region proposal thì thực hiện tương tự Fast R-CNN.\n",
      "Region Proposal Network (RPN)\n",
      "Input của RPN là feature map và output là các region proposal. Ta thấy các region proposal là hình\n",
      "chữ nhật.\n",
      "Metadata: {'source': 'docs/Sách Deep Learning cơ bản.pdf', 'page': 182, 'id': 249}\n",
      "----------------------------------------------------------------------------------------------------\n",
      "Document 4:\n",
      "\n",
      "200 Chương 15. Recurrent neural network\n",
      "15.1.1 Dữ liệu dạng sequence\n",
      "Dữ liệu có thứ tự như các ảnh tách từ video ở trên được gọi là sequence, time-series data.\n",
      "Trong bài toán dự đoán đột quỵ tim cho bệnh nhân bằng các dữ liệu tim mạch khám trước\n",
      "đó. Input là dữ liệu của những lần khám trước đó, ví dụ i1 là lần khám tháng 1, i2 là lần khám tháng\n",
      "2,... i8 là lần khám tháng 8. (i1,i2,..i8) được gọi là sequence data. RNN sẽ học từ input và dự đoán\n",
      "xem bệnh nhân có bị đột quy tim hay không.\n",
      "Ví dụ khác là trong bài toán dịch tự động với input là 1 câu, ví dụ \"tôi yêu Việt Nam\" thì vị\n",
      "trí các từ và sự xắp xếp cực kì quan trọng đến nghĩa của câu và dữ liệu input các từ [’tôi’, ’yêu’,\n",
      "’việt’, ’nam’] được gọi là sequence data. Trong bài toán xử lý ngôn ngữ (NLP) thì không thể xử\n",
      "lý cả câu được và người ta tách ra từng từ làm input, giống như trong video người ta tách ra\n",
      "các ảnh (frame) làm input .\n",
      "15.1.2 Phân loại bài toán RNN\n",
      "Hình 15.1: Các dạng bài toán RNN\n",
      "Metadata: {'source': 'docs/Sách Deep Learning cơ bản.pdf', 'page': 199, 'id': 274}\n",
      "----------------------------------------------------------------------------------------------------\n",
      "Document 5:\n",
      "\n",
      "13.3 Ứng dụng object detection 187\n",
      "dùng cho real-time object detection\n",
      "13.3 Ứng dụng object detection\n",
      "•Tự động điểm danh: Xác định được vị trí mặt của các học sinh và phân loại các học sinh\n",
      "trong lớp.\n",
      "•Hỗ trợ ô tô tự lái: Xác định được vị trí và phân loại được các phương tiện giao thông, người\n",
      "đi bộ.\n",
      "•Dự đoán hành vi: Xác định được vị trí và phân loại người => track được người => dùng RNN\n",
      "để tự đoán hành vi.\n",
      "13.4 Bài tập\n",
      "1.Tìm code implement Faster RCNN trên github, download pre-trained model về và chạy thử\n",
      "với ảnh mới.\n",
      "2.Customize dataset tùy ý và dùng pre-trained model ở trên để train Faster RCNN với dữ liệu\n",
      "mới.\n",
      "Metadata: {'source': 'docs/Sách Deep Learning cơ bản.pdf', 'page': 186, 'id': 255}\n",
      "----------------------------------------------------------------------------------------------------\n",
      "Document 6:\n",
      "\n",
      "80 Chương 5. Neural network\n",
      "Hình 5.9: Đường thẳng y = 1.5-x phân chia 2 miền dữ liệu\n",
      "Nhận xét, do phép tính NOT là đổi giá trị của bit, nên phép tính NOT(A AND B) có thể biểu\n",
      "diễn như hình trên với việc đổi màu các điểm từ đỏ thành xanh và xanh thành đỏ. Do đó đường\n",
      "phân chia không thay đổi và 2 miền giá trị đổi dấu cho nhau => giá trị các tham số đổi dấu\n",
      "w0=1.5,w1=−1,w2=−1\n",
      "Hình 5.10: NOT (x1AND x2)\n",
      "5.4.3 OR\n",
      "Phép tính OR của 2 bit cho giá trị 1 nếu 1 trong 2 bit bằng 1 và cho giá trị bằng 0 trong các trường\n",
      "hợp còn lại. Bảng chân lý\n",
      "ABA OR B\n",
      "00 0\n",
      "01 1\n",
      "10 1\n",
      "11 1\n",
      "Tương tự ta cũng tìm được w0=−0.5,w1=1,w2=1\n",
      "Metadata: {'source': 'docs/Sách Deep Learning cơ bản.pdf', 'page': 79, 'id': 112}\n",
      "----------------------------------------------------------------------------------------------------\n",
      "Document 7:\n",
      "\n",
      "204 Chương 15. Recurrent neural network\n",
      "time-series data thì LSTM được sử dụng phổ biến hơn là mô hình RNN thuần nên bài này không có\n",
      "code, bài sau sẽ có code ứng dụng với LSTM.\n",
      "15.3 Bài tập\n",
      "1. Hệ số trong RNN là gì?\n",
      "2. Thiết kế và train model RNN dự báo giá Bitcoin, tải dữ liệu ở đây.\n",
      "3. Tự tìm hiểu và sử dụng mô hình Bidirectional cho bài toán trên.\n",
      "Metadata: {'source': 'docs/Sách Deep Learning cơ bản.pdf', 'page': 203, 'id': 282}\n",
      "----------------------------------------------------------------------------------------------------\n",
      "Document 8:\n",
      "\n",
      "16. Long short term memory (LSTM)\n",
      "16.1 Giới thiệu về LSTM\n",
      "Bài trước tôi đã giới thiệu về recurrent neural network (RNN). RNN có thể xử lý thông tin dạng\n",
      "chuỗi (sequence/ time-series). Như ở bài dự đoán hành động trong video ở bài trước, RNN có thể\n",
      "mang thông tin của frame (ảnh) từ state trước tới các state sau, rồi ở state cuối là sự kết hợp của tất\n",
      "cả các ảnh để dự đoán hành động trong video.\n",
      "Hình 16.1: Mô hình RNN\n",
      "Đạo hàm của L với W ở state thứ i:∂L\n",
      "∂W=∂L\n",
      "∂ˆy∗∂ˆy\n",
      "∂s30∗∂s30\n",
      "∂si∗∂s′\n",
      "i\n",
      "∂W, trong đó∂s30\n",
      "∂si=29\n",
      "∏\n",
      "j=i∂sj+1\n",
      "∂sj\n",
      "Giả sử activation là tanh function, st=tanh(U∗xt+W∗st−1)\n",
      "Metadata: {'source': 'docs/Sách Deep Learning cơ bản.pdf', 'page': 204, 'id': 283}\n",
      "----------------------------------------------------------------------------------------------------\n",
      "Document 9:\n",
      "\n",
      "17. Ứng dụng thêm mô tả cho ảnh\n",
      "Ở những bài trước tôi đã giới thiệu về mô hình Recurrent Neural Network (RNN) cho bài toán dữ\n",
      "liệu dạng chuỗi. Tuy nhiên RNN chỉ có short term memory và bị vanishing gradient. Tiếp đó tôi đã\n",
      "giới thiệu về Long short term memory (LSTM) có cả short term memory và long term memory,\n",
      "hơn thế nữa tránh được vaninishing gradient. Bài này tôi sẽ viết về ứng dụng của LSTM cho ứng\n",
      "dụng image captioning.\n",
      "17.1 Ứng dụng\n",
      "Hình 17.1: Ví dụ image captioning [10]\n",
      "Ta có thể thấy ngay 2 ứng dụng của image captioning:\n",
      "•Để giúp những người già mắt kém hoặc người mù có thể biết được cảnh vật xung quanh hay\n",
      "hỗ trợ việc di chuyển. Quy trình sẽ là: Image -> text -> voice.\n",
      "•Giúp google search có thể tìm kiếm được hình ảnh dựa vào caption.\n",
      "Metadata: {'source': 'docs/Sách Deep Learning cơ bản.pdf', 'page': 208, 'id': 289}\n",
      "----------------------------------------------------------------------------------------------------\n",
      "Document 10:\n",
      "\n",
      "lý cả câu được và người ta tách ra từng từ làm input, giống như trong video người ta tách ra\n",
      "các ảnh (frame) làm input .\n",
      "15.1.2 Phân loại bài toán RNN\n",
      "Hình 15.1: Các dạng bài toán RNN\n",
      "One to one : mẫu bài toán cho Neural Network (NN) và Convolutional Neural Network (CNN), 1\n",
      "input và 1 output, ví dụ với CNN input là ảnh và output là ảnh được segment.\n",
      "One to many : bài toán có 1 input nhưng nhiều output, ví dụ: bài toán caption cho ảnh, input\n",
      "là 1 ảnh nhưng output là nhiều chữ mô tả cho ảnh đấy, dưới dạng một câu.\n",
      "Hình 15.2: Ví dụ image captioning [10]\n",
      "Metadata: {'source': 'docs/Sách Deep Learning cơ bản.pdf', 'page': 199, 'id': 275}\n"
     ]
    }
   ],
   "source": [
    "\n",
    "def pretty_print_docs(docs):\n",
    "    print(\n",
    "        f\"\\n{'-' * 100}\\n\".join(\n",
    "            [\n",
    "                f\"Document {i+1}:\\n\\n{d.page_content}\\nMetadata: {d.metadata}\"\n",
    "                for i, d in enumerate(docs)\n",
    "            ]\n",
    "        )\n",
    "    )\n",
    "retriever = vectorstore.as_retriever(search_type=\"mmr\", search_kwargs={\"k\": 10})\n",
    "\n",
    "query = \"định nghĩa của mạng RNN\"\n",
    "docs = retriever.invoke(query)\n",
    "pretty_print_docs(docs)"
   ]
  },
  {
   "cell_type": "code",
   "execution_count": 9,
   "metadata": {},
   "outputs": [],
   "source": [
    "from langchain.retrievers import ContextualCompressionRetriever\n",
    "from langchain.retrievers.document_compressors import CohereRerank\n",
    "\n",
    "# Create the retriever\n",
    "compressor = CohereRerank(cohere_api_key='1Ld9LQLqTkOc29ABj54VRHOfyONyp4mtYIfpy7m1', top_n=5)\n",
    "compression_retriever = ContextualCompressionRetriever(\n",
    "    base_compressor=compressor,\n",
    "    base_retriever=retriever\n",
    ")"
   ]
  },
  {
   "cell_type": "code",
   "execution_count": 10,
   "metadata": {},
   "outputs": [
    {
     "name": "stdout",
     "output_type": "stream",
     "text": [
      "[283, 249, 275, 271, 289]\n"
     ]
    }
   ],
   "source": [
    "\n",
    "compressed_docs = compression_retriever.invoke(\n",
    "    query\n",
    ")\n",
    "print([doc.metadata[\"id\"] for doc in compressed_docs])"
   ]
  },
  {
   "cell_type": "code",
   "execution_count": 2,
   "metadata": {},
   "outputs": [
    {
     "name": "stdout",
     "output_type": "stream",
     "text": [
      "None\n"
     ]
    }
   ],
   "source": [
    "import os\n",
    "\n",
    "api_key = os.getenv('API_KEY')\n",
    "print(api_key)"
   ]
  },
  {
   "cell_type": "code",
   "execution_count": 11,
   "metadata": {},
   "outputs": [
    {
     "name": "stdout",
     "output_type": "stream",
     "text": [
      "INFO: Tried to clean up context but failed!\n"
     ]
    }
   ],
   "source": [
    "\n",
    "import pathlib\n",
    "import textwrap\n",
    "\n",
    "import google.generativeai as genai\n",
    "\n",
    "from IPython.display import display\n",
    "from IPython.display import Markdown\n",
    "\n",
    "\n",
    "def to_markdown(text):\n",
    "  text = text.replace('•', '  *')\n",
    "  return Markdown(textwrap.indent(text, '> ', predicate=lambda _: True))"
   ]
  },
  {
   "cell_type": "code",
   "execution_count": 12,
   "metadata": {},
   "outputs": [],
   "source": [
    "# Or use `os.getenv('GOOGLE_API_KEY')` to fetch an environment variable.\n",
    "GOOGLE_API_KEY=key\n",
    "\n",
    "genai.configure(api_key=GOOGLE_API_KEY)"
   ]
  },
  {
   "cell_type": "code",
   "execution_count": 11,
   "metadata": {},
   "outputs": [
    {
     "name": "stdout",
     "output_type": "stream",
     "text": [
      "models/gemini-1.0-pro\n",
      "models/gemini-1.0-pro-001\n",
      "models/gemini-1.0-pro-latest\n",
      "models/gemini-1.0-pro-vision-latest\n",
      "models/gemini-1.5-flash\n",
      "models/gemini-1.5-flash-001\n",
      "models/gemini-1.5-flash-latest\n",
      "models/gemini-1.5-pro\n",
      "models/gemini-1.5-pro-001\n",
      "models/gemini-1.5-pro-latest\n",
      "models/gemini-pro\n",
      "models/gemini-pro-vision\n"
     ]
    }
   ],
   "source": [
    "for m in genai.list_models():\n",
    "  if 'generateContent' in m.supported_generation_methods:\n",
    "    print(m.name)"
   ]
  },
  {
   "cell_type": "code",
   "execution_count": 37,
   "metadata": {},
   "outputs": [],
   "source": [
    "model = genai.GenerativeModel('gemini-1.5-pro-latest')\n",
    "\n",
    "def format_docs(docs):\n",
    "    return \"\\n\\n\".join(doc.page_content for doc in docs)\n",
    "\n",
    "def generate_response(input_text):\n",
    "    doc = format_docs(compression_retriever.invoke(input_text))\n",
    "#\n",
    "    prompt_text = f\"\"\"\n",
    "        Bạn là trợ lý cho các nhiệm vụ trả lời câu hỏi.\n",
    "        Hãy trả lời câu hỏi dựa trên dữ liệu có trong đoạn ngữ cảnh\n",
    "        Hãy trả lời không biết nêu không có thông tin tron đoạn ngữ cảnh\n",
    "\n",
    "        đoạn ngữ cảnh: {doc}\n",
    "\n",
    "        câu hỏi: {input_text}\n",
    "\n",
    "        câu trả lời:\n",
    "        \"\"\"\n",
    "\n",
    "\n",
    "    response = model.generate_content(prompt_text)\n",
    "    return to_markdown(response.text).data\n"
   ]
  },
  {
   "cell_type": "code",
   "execution_count": 38,
   "metadata": {},
   "outputs": [
    {
     "data": {
      "text/plain": [
       "'> **Mạng LSTM (Long Short-Term Memory)** là một loại mạng nơ-ron hồi quy (RNN) đặc biệt có khả năng học các phụ thuộc dài hạn trong dữ liệu tuần tự. \\n> \\n> **Vấn đề của RNN truyền thống:** RNN truyền thống gặp khó khăn trong việc ghi nhớ thông tin từ lâu trong chuỗi do vấn đề \"vanishing gradient\" (gradient tiêu biến). Khi thông tin được truyền qua nhiều bước thời gian, gradient (đạo hàm của hàm mất mát) có thể trở nên rất nhỏ, khiến mạng khó cập nhật trọng số và học các phụ thuộc dài hạn.\\n> \\n> **Giải pháp của LSTM:** LSTM giải quyết vấn đề này bằng cách giới thiệu một cơ chế \"trạng thái ô nhớ\" (cell state) đặc biệt, hoạt động như một băng chuyền thông tin. Thông tin quan trọng có thể được lưu trữ trong trạng thái ô nhớ này và được truy cập tại các bước thời gian sau đó, cho phép LSTM ghi nhớ thông tin dài hạn.\\n> \\n> **Cấu trúc của một ô nhớ LSTM:** Một ô nhớ LSTM bao gồm ba cổng chính:\\n> \\n> * **Cổng quên (forget gate):** Quyết định thông tin nào từ trạng thái ô nhớ trước đó sẽ bị loại bỏ.\\n> * **Cổng đầu vào (input gate):** Quyết định thông tin mới nào sẽ được thêm vào trạng thái ô nhớ.\\n> * **Cổng đầu ra (output gate):** Quyết định thông tin nào từ trạng thái ô nhớ sẽ được xuất ra làm đầu ra của ô nhớ tại bước thời gian hiện tại.\\n> \\n> **Ưu điểm của LSTM:**\\n> \\n> * **Ghi nhớ thông tin dài hạn:** Khả năng học các phụ thuộc dài hạn trong dữ liệu tuần tự.\\n> * **Khắc phục vanishing gradient:** Cơ chế cell state giúp giảm thiểu vấn đề vanishing gradient.\\n> \\n> **Ứng dụng của LSTM:**\\n> \\n> * **Xử lý ngôn ngữ tự nhiên:** Dịch máy, phân tích cảm xúc, tạo văn bản.\\n> * **Phân tích chuỗi thời gian:** Dự báo giá cổ phiếu, dự báo thời tiết.\\n> * **Nhận dạng giọng nói:** Chuyển đổi lời nói thành văn bản.\\n'"
      ]
     },
     "execution_count": 38,
     "metadata": {},
     "output_type": "execute_result"
    }
   ],
   "source": [
    "generate_response(\"hãy giải thích mạng LSTM\")"
   ]
  },
  {
   "cell_type": "code",
   "execution_count": 39,
   "metadata": {},
   "outputs": [
    {
     "name": "stdout",
     "output_type": "stream",
     "text": [
      "Running on local URL:  http://127.0.0.1:7865\n",
      "\n",
      "To create a public link, set `share=True` in `launch()`.\n"
     ]
    },
    {
     "data": {
      "text/html": [
       "<div><iframe src=\"http://127.0.0.1:7865/\" width=\"100%\" height=\"500\" allow=\"autoplay; camera; microphone; clipboard-read; clipboard-write;\" frameborder=\"0\" allowfullscreen></iframe></div>"
      ],
      "text/plain": [
       "<IPython.core.display.HTML object>"
      ]
     },
     "metadata": {},
     "output_type": "display_data"
    },
    {
     "data": {
      "text/plain": []
     },
     "execution_count": 39,
     "metadata": {},
     "output_type": "execute_result"
    }
   ],
   "source": [
    "import gradio as gr\n",
    "\n",
    "\n",
    "iface = gr.Interface(generate_response, \n",
    "                     inputs=\"textbox\",\n",
    "                     outputs=\"textbox\",\n",
    "                     title=\"Chatbot about Deep learning\",\n",
    "                     description=\"Enter your message and the chatbot will respond accordingly.\")\n",
    "iface.launch()\n"
   ]
  },
  {
   "cell_type": "code",
   "execution_count": null,
   "metadata": {},
   "outputs": [],
   "source": []
  }
 ],
 "metadata": {
  "kernelspec": {
   "display_name": "venv",
   "language": "python",
   "name": "python3"
  },
  "language_info": {
   "codemirror_mode": {
    "name": "ipython",
    "version": 3
   },
   "file_extension": ".py",
   "mimetype": "text/x-python",
   "name": "python",
   "nbconvert_exporter": "python",
   "pygments_lexer": "ipython3",
   "version": "3.10.11"
  }
 },
 "nbformat": 4,
 "nbformat_minor": 2
}
