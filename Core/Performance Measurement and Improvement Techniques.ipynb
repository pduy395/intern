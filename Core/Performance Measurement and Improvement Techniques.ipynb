{
 "cells": [
  {
   "cell_type": "markdown",
   "metadata": {},
   "source": [
    "# Measuring Performance with OpenCV\n"
   ]
  },
  {
   "cell_type": "code",
   "execution_count": 2,
   "metadata": {},
   "outputs": [
    {
     "name": "stdout",
     "output_type": "stream",
     "text": [
      "2.5221473\n"
     ]
    }
   ],
   "source": [
    "# cv2.getTickCount function returns the number of clock-cycles after a reference event \n",
    "# (like the moment machine was switched ON) to the moment this function is called\n",
    "\n",
    "# cv2.getTickFrequency function returns the frequency of clock-cycles, or the number of clock-cycles per second\n",
    "import cv2\n",
    "\n",
    "image = cv2.imread('1.jpg')\n",
    "\n",
    "e1 = cv2.getTickCount()\n",
    "\n",
    "for i in range(5,49,2):\n",
    "    image = cv2.medianBlur(image , i)\n",
    "    \n",
    "e2 = cv2.getTickCount()\n",
    "\n",
    "# Thời gian thực hiện\n",
    "t = (e2 - e1)/cv2.getTickFrequency()\n",
    "print(t)"
   ]
  },
  {
   "cell_type": "markdown",
   "metadata": {},
   "source": [
    "Default Optimization in OpenCV\n"
   ]
  },
  {
   "cell_type": "code",
   "execution_count": 3,
   "metadata": {},
   "outputs": [
    {
     "name": "stdout",
     "output_type": "stream",
     "text": [
      "Optimizations enabled: True\n",
      "Optimizations enabled: False\n",
      "Optimizations enabled: True\n"
     ]
    }
   ],
   "source": [
    "import cv2\n",
    "\n",
    "# Kiểm tra trạng thái tối ưu hóa\n",
    "print(\"Optimizations enabled:\", cv2.useOptimized())\n",
    "\n",
    "# Tắt tối ưu hóa\n",
    "cv2.setUseOptimized(False)\n",
    "print(\"Optimizations enabled:\", cv2.useOptimized())\n",
    "\n",
    "# Bật lại tối ưu hóa\n",
    "cv2.setUseOptimized(True)\n",
    "print(\"Optimizations enabled:\", cv2.useOptimized())"
   ]
  },
  {
   "cell_type": "code",
   "execution_count": 12,
   "metadata": {},
   "outputs": [
    {
     "name": "stdout",
     "output_type": "stream",
     "text": [
      "Time with optimizations: 0.12749 seconds\n",
      "Time without optimizations: 0.19249 seconds\n"
     ]
    }
   ],
   "source": [
    "import cv2\n",
    "import numpy as np\n",
    "\n",
    "# Tạo một ảnh ngẫu nhiên\n",
    "image = np.random.randint(0, 256, (1000, 1000), dtype=np.uint8)\n",
    "\n",
    "def measure_time():\n",
    "    image = cv2.imread('1.jpg')\n",
    "    e1 = cv2.getTickCount()\n",
    "    for i in range(1,100,1):\n",
    "        cv2.GaussianBlur(src=image, ksize=(5,5), sigmaX=0, sigmaY=0)\n",
    "    e2 = cv2.getTickCount()\n",
    "    \n",
    "    # Thời gian thực hiện\n",
    "    t = (e2 - e1)/cv2.getTickFrequency()\n",
    "    return t\n",
    "\n",
    "# Đo thời gian thực thi với tối ưu hóa\n",
    "cv2.setUseOptimized(True)\n",
    "optimized_time = measure_time()\n",
    "print(f\"Time with optimizations: {optimized_time:.5f} seconds\")\n",
    "\n",
    "# Đo thời gian thực thi không tối ưu hóa\n",
    "cv2.setUseOptimized(False)\n",
    "non_optimized_time = measure_time()\n",
    "print(f\"Time without optimizations: {non_optimized_time:.5f} seconds\")"
   ]
  },
  {
   "cell_type": "code",
   "execution_count": null,
   "metadata": {},
   "outputs": [],
   "source": []
  }
 ],
 "metadata": {
  "kernelspec": {
   "display_name": ".venv",
   "language": "python",
   "name": "python3"
  },
  "language_info": {
   "codemirror_mode": {
    "name": "ipython",
    "version": 3
   },
   "file_extension": ".py",
   "mimetype": "text/x-python",
   "name": "python",
   "nbconvert_exporter": "python",
   "pygments_lexer": "ipython3",
   "version": "3.10.11"
  }
 },
 "nbformat": 4,
 "nbformat_minor": 2
}
