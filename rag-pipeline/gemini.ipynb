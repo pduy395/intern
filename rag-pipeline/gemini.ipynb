{
 "cells": [
  {
   "cell_type": "code",
   "execution_count": 1,
   "metadata": {},
   "outputs": [],
   "source": [
    "from langchain_community.vectorstores import FAISS\n",
    "from langchain_text_splitters import MarkdownTextSplitter\n",
    "from langchain.prompts import ChatPromptTemplate\n",
    "\n",
    "from langchain_community.llms import Ollama\n",
    "\n",
    "from langchain_community.embeddings import HuggingFaceEmbeddings\n",
    "from langchain_community.vectorstores import FAISS\n",
    "import tqdm\n",
    "import os\n",
    "\n",
    "from langchain_core.output_parsers import StrOutputParser\n",
    "from langchain_core.runnables import RunnablePassthrough\n"
   ]
  },
  {
   "cell_type": "code",
   "execution_count": 49,
   "metadata": {},
   "outputs": [
    {
     "name": "stderr",
     "output_type": "stream",
     "text": [
      "Ignoring wrong pointing object 10 0 (offset 0)\n",
      "Ignoring wrong pointing object 88 0 (offset 0)\n"
     ]
    }
   ],
   "source": [
    "from langchain.document_loaders import PyPDFLoader\n",
    "#from langchain_community.document_loaders import WebBaseLoader\n",
    "\n",
    "loader = PyPDFLoader(\"docs/AT_Internal rules for interns_VN.pdf\")\n",
    "# loader = WebBaseLoader(\"https://docs.smith.langchain.com/user_guide\")\n",
    "\n",
    "pages = loader.load()"
   ]
  },
  {
   "cell_type": "code",
   "execution_count": 50,
   "metadata": {},
   "outputs": [],
   "source": [
    "\n",
    "text_splitter = MarkdownTextSplitter(\n",
    "    chunk_size=1000,\n",
    "    chunk_overlap=200,\n",
    ")"
   ]
  },
  {
   "cell_type": "code",
   "execution_count": 51,
   "metadata": {},
   "outputs": [],
   "source": [
    "docs = text_splitter.split_documents(pages)"
   ]
  },
  {
   "cell_type": "code",
   "execution_count": 52,
   "metadata": {},
   "outputs": [
    {
     "name": "stderr",
     "output_type": "stream",
     "text": [
      "d:\\thực tập doanh nghiệp\\venv\\lib\\site-packages\\huggingface_hub\\file_download.py:1132: FutureWarning: `resume_download` is deprecated and will be removed in version 1.0.0. Downloads always resume when possible. If you want to force a new download, use `force_download=True`.\n",
      "  warnings.warn(\n"
     ]
    }
   ],
   "source": [
    "model = \"keepitreal/vietnamese-sbert\"\n",
    "embeddings = HuggingFaceEmbeddings(model_name = model)"
   ]
  },
  {
   "cell_type": "code",
   "execution_count": 53,
   "metadata": {},
   "outputs": [],
   "source": [
    "vectorstore = FAISS.from_documents(docs, embeddings)\n",
    "vectorstore.save_local(\"faiss_index\")\n"
   ]
  },
  {
   "cell_type": "code",
   "execution_count": 7,
   "metadata": {},
   "outputs": [],
   "source": [
    "vectorstore = FAISS.load_local(\"faiss_index\", embeddings, allow_dangerous_deserialization=True)"
   ]
  },
  {
   "cell_type": "code",
   "execution_count": 54,
   "metadata": {},
   "outputs": [],
   "source": [
    "retriever = vectorstore.as_retriever(search_type=\"mmr\", search_kwargs={\"k\": 10})"
   ]
  },
  {
   "cell_type": "code",
   "execution_count": 57,
   "metadata": {},
   "outputs": [
    {
     "name": "stdout",
     "output_type": "stream",
     "text": [
      "phụ trách để xin phép thay đổi thời gian thực tập. • Mọi vắng mặt không lý do, hoặc không tuân thủ thời gian làm việc của công ty với lý do không hợp lý đều sẽ ảnh hướng đến kết quả đánh giá thực tập sinh vào cuối đợt thực tập.  2. Một số quy định chung trong giờ làm việc • Ăn mặc gọn gàng, lịch sự, phù hợp môi trường văn phòng. • Không làm việc riêng trong giờ làm việc (xem phim, chat, Facebook … những nội dung không phục vụ cho công việc đang làm).. • Không download dữ liệu cá nhân (phim, ảnh, nhạc) trong và ngoài giờ làm việc. • Không chơi games trong và ngoài giờ làm việc trừ các dịp đặc biệt được ban giám đốc chấp thuận. • Điện thoại để ở chế độ rung • Thân thiện với người trong công ty, tác phong nhanh nhẹn, chuyên nghiệp, tôn trọng trong công việc. • Sử dụng tiết kiệm các loại văn phòng phẩm, điện, tắt màn hình trước khi rời chỗ làm việc • Tuyệt đối bảo mật thông tin (xem rõ phụ lục đính kèm Nội quy công ty này) 3. Một số quy định riêng về thái độ làm việc • Thực tập sinh cần\n",
      "\n",
      "phòng phẩm, điện, tắt màn hình trước khi rời chỗ làm việc • Tuyệt đối bảo mật thông tin (xem rõ phụ lục đính kèm Nội quy công ty này) 3. Một số quy định riêng về thái độ làm việc • Thực tập sinh cần có thái độ hòa đồng, tích cực học hỏi. • Thực tập sinh cần chủ động trong việc tìm hiểu, cố gắng nỗ lực thực hiện các vấn đề được giao. Tuân thủ Nội quy Công ty được xem như một tiêu chí để đánh giá kết quả thực tập của Thực tập sinh. Văn bản này có hiệu lực kể từ ngày ký  Hà Nội, ngày 01 tháng 05 năm 2014 Giám đốc               KOJI HOSAKA\n",
      "\n",
      "  NỘI QUY CÔNG TY Dành cho: Thực tập sinh 1. Quy định về thời gian thực tập • Thời gian làm việc của toàn công ty: từ 8: 30 đến 12h00 và từ 13:00 đến 17: 30 hàng ngày từ thứ Hai đến thứ Sáu.  • Thời gian thực tập tối thiểu của 1 thực tập sinh phần mềm là 20 giờ/ tuần.  • Trước khi bắt đầu kỳ thực tập, thực tập sinh đăng ký lịch thực tập theo tháng với cán bộ phụ trách.  • Trường hợp nghỉ vào những buổi đã đăng ký thực tập cần báo trước cho cán bộ phụ trách kèm theo lý do cụ thể.  • Trường hợp thời gian thực tập không thể diễn ra theo kế hoạch đã đăng kỳ, với lý do hợp lý, thực tập sinh phải chủ động thông báo cho cán bộ phụ trách để xin phép thay đổi thời gian thực tập. • Mọi vắng mặt không lý do, hoặc không tuân thủ thời gian làm việc của công ty với lý do không hợp lý đều sẽ ảnh hướng đến kết quả đánh giá thực tập\n"
     ]
    }
   ],
   "source": [
    "question = 'hãy nêu thời gian làm việc của công ty'\n",
    "docs = vectorstore.similarity_search(question,k=5)\n",
    "print(docs[0].page_content)\n",
    "print()\n",
    "print(docs[1].page_content)\n",
    "print()\n",
    "print(docs[2].page_content)"
   ]
  },
  {
   "cell_type": "code",
   "execution_count": 9,
   "metadata": {},
   "outputs": [],
   "source": [
    "key = ''\n",
    "import pathlib\n",
    "import textwrap\n",
    "\n",
    "import google.generativeai as genai\n",
    "\n",
    "from IPython.display import display\n",
    "from IPython.display import Markdown\n",
    "\n",
    "\n",
    "def to_markdown(text):\n",
    "  text = text.replace('•', '  *')\n",
    "  return Markdown(textwrap.indent(text, '> ', predicate=lambda _: True))"
   ]
  },
  {
   "cell_type": "code",
   "execution_count": 10,
   "metadata": {},
   "outputs": [],
   "source": [
    "# Or use `os.getenv('GOOGLE_API_KEY')` to fetch an environment variable.\n",
    "GOOGLE_API_KEY=key\n",
    "\n",
    "genai.configure(api_key=GOOGLE_API_KEY)"
   ]
  },
  {
   "cell_type": "code",
   "execution_count": 11,
   "metadata": {},
   "outputs": [
    {
     "name": "stdout",
     "output_type": "stream",
     "text": [
      "models/gemini-1.0-pro\n",
      "models/gemini-1.0-pro-001\n",
      "models/gemini-1.0-pro-latest\n",
      "models/gemini-1.0-pro-vision-latest\n",
      "models/gemini-1.5-flash\n",
      "models/gemini-1.5-flash-001\n",
      "models/gemini-1.5-flash-latest\n",
      "models/gemini-1.5-pro\n",
      "models/gemini-1.5-pro-001\n",
      "models/gemini-1.5-pro-latest\n",
      "models/gemini-pro\n",
      "models/gemini-pro-vision\n"
     ]
    }
   ],
   "source": [
    "for m in genai.list_models():\n",
    "  if 'generateContent' in m.supported_generation_methods:\n",
    "    print(m.name)"
   ]
  },
  {
   "cell_type": "code",
   "execution_count": 60,
   "metadata": {},
   "outputs": [],
   "source": [
    "model = genai.GenerativeModel('gemini-1.5-pro-latest')"
   ]
  },
  {
   "cell_type": "code",
   "execution_count": 61,
   "metadata": {},
   "outputs": [
    {
     "data": {
      "text/markdown": [
       "> As a large language model, I don't have personal beliefs or experiences to draw on.  The meaning of life is a question philosophers have pondered for centuries, and there's no single right answer. It's a deeply personal and individual question. \n",
       "> \n",
       "> However, I can offer some perspectives:\n",
       "> \n",
       "> * **It's up to you to decide:**  Many believe that the meaning of life isn't inherent but rather something we create through our experiences, relationships, and contributions. \n",
       "> * **Finding purpose:** Some find meaning in pursuing a specific purpose, whether it's a career, creative passion, religious devotion, or helping others.\n",
       "> * **Living in the moment:** Others find meaning in appreciating the present moment and finding joy in everyday experiences.\n",
       "> * **Connecting with something larger:** Some people find meaning in connecting with something beyond themselves, such as nature, spirituality, or a sense of community.\n",
       "> \n",
       "> Ultimately, the most important thing is to find what gives your life meaning and purpose. \n",
       "> \n",
       "> If you're interested in exploring this further, you might enjoy reading philosophical works, exploring different spiritual traditions, or engaging in meaningful conversations with others. \n"
      ],
      "text/plain": [
       "<IPython.core.display.Markdown object>"
      ]
     },
     "execution_count": 61,
     "metadata": {},
     "output_type": "execute_result"
    }
   ],
   "source": [
    "response = model.generate_content(\"What is the meaning of life?\")\n",
    "to_markdown(response.text)"
   ]
  },
  {
   "cell_type": "code",
   "execution_count": 62,
   "metadata": {},
   "outputs": [],
   "source": [
    "\n",
    "\n",
    "def format_docs(docs):\n",
    "    return \"\\n\\n\".join(doc.page_content for doc in docs)\n",
    "\n",
    "def generate_response(input_text):\n",
    "    doc = format_docs(vectorstore.similarity_search(input_text,k=5))\n",
    "#Hãy trả lời không biết nêu không có thông tin tron đoạn ngữ cảnh\n",
    "    prompt_text = f\"\"\"\n",
    "        Bạn là trợ lý cho các nhiệm vụ trả lời câu hỏi.\n",
    "        Hãy trả lời câu hỏi dựa trên dữ liệu có trong đoạn ngữ cảnh\n",
    "        \n",
    "\n",
    "        đoạn ngữ cảnh: {doc}\n",
    "\n",
    "        câu hỏi: {input_text}\n",
    "\n",
    "        câu trả lời:\n",
    "        \"\"\"\n",
    "\n",
    "\n",
    "    respone = model.generate_content(prompt_text)\n",
    "    return to_markdown(respone.text).data\n"
   ]
  },
  {
   "cell_type": "code",
   "execution_count": 63,
   "metadata": {},
   "outputs": [
    {
     "name": "stdout",
     "output_type": "stream",
     "text": [
      "Running on local URL:  http://127.0.0.1:7868\n",
      "\n",
      "To create a public link, set `share=True` in `launch()`.\n"
     ]
    },
    {
     "data": {
      "text/html": [
       "<div><iframe src=\"http://127.0.0.1:7868/\" width=\"100%\" height=\"500\" allow=\"autoplay; camera; microphone; clipboard-read; clipboard-write;\" frameborder=\"0\" allowfullscreen></iframe></div>"
      ],
      "text/plain": [
       "<IPython.core.display.HTML object>"
      ]
     },
     "metadata": {},
     "output_type": "display_data"
    },
    {
     "data": {
      "text/plain": []
     },
     "execution_count": 63,
     "metadata": {},
     "output_type": "execute_result"
    }
   ],
   "source": [
    "import gradio as gr\n",
    "\n",
    "\n",
    "iface = gr.Interface(generate_response, \n",
    "                     inputs=\"textbox\",\n",
    "                     outputs=\"textbox\",\n",
    "                     title=\"Chatbot about Deep learning\",\n",
    "                     description=\"Enter your message and the chatbot will respond accordingly.\")\n",
    "iface.launch()\n"
   ]
  },
  {
   "cell_type": "code",
   "execution_count": null,
   "metadata": {},
   "outputs": [],
   "source": []
  }
 ],
 "metadata": {
  "kernelspec": {
   "display_name": "venv",
   "language": "python",
   "name": "python3"
  },
  "language_info": {
   "codemirror_mode": {
    "name": "ipython",
    "version": 3
   },
   "file_extension": ".py",
   "mimetype": "text/x-python",
   "name": "python",
   "nbconvert_exporter": "python",
   "pygments_lexer": "ipython3",
   "version": "3.10.11"
  }
 },
 "nbformat": 4,
 "nbformat_minor": 2
}
