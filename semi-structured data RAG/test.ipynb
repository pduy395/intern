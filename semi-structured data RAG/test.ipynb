{
 "cells": [
  {
   "cell_type": "code",
<<<<<<< HEAD
   "execution_count": null,
=======
   "execution_count": 2,
>>>>>>> bbe993de7b522d090d1e61c4bff15b0b157456d7
   "metadata": {},
   "outputs": [],
   "source": [
    "import pytesseract\n",
    "\n",
    "# Đường dẫn đến tesseract executable nếu không được thêm vào PATH\n",
    "pytesseract.pytesseract.tesseract_cmd = r'C:\\Program Files\\Tesseract-OCR\\tesseract.exe'\n"
   ]
  },
  {
   "cell_type": "code",
<<<<<<< HEAD
   "execution_count": null,
=======
   "execution_count": 66,
>>>>>>> bbe993de7b522d090d1e61c4bff15b0b157456d7
   "metadata": {},
   "outputs": [],
   "source": [
    "from typing import Any\n",
    "\n",
    "from pydantic import BaseModel\n",
    "from unstructured.partition.pdf import partition_pdf\n",
    "\n",
    "path = \"data/\"\n",
    "\n",
    "# Get elements\n",
    "raw_pdf_elements = partition_pdf(\n",
    "    filename=path + \"QCDT-21.pdf\",\n",
    "    # Using pdf format to find embedded image blocks\n",
    "    extract_images_in_pdf=True,\n",
    "    # Use layout model (YOLOX) to get bounding boxes (for tables) and find titles\n",
    "    # Titles are any sub-section of the document\n",
    "    infer_table_structure=True,\n",
    "    # Post processing to aggregate text once we have the title\n",
    "    chunking_strategy=\"by_title\",\n",
    "    # Chunking params to aggregate text blocks\n",
    "    # Attempt to create a new chunk 3800 chars\n",
    "    # Attempt to keep chunks > 2000 chars\n",
    "    # Hard max on chunks\n",
    "    max_characters=4000,\n",
    "    new_after_n_chars=3800,\n",
    "    combine_text_under_n_chars=2000,\n",
    "    image_output_dir_path=path,\n",
    ")"
   ]
  },
  {
   "cell_type": "code",
   "execution_count": null,
   "metadata": {},
   "outputs": [],
   "source": [
    "for element in raw_pdf_elements:\n",
    "  if \"unstructured.documents.elements.Table\" in str(type(element)):\n",
    "      print(str(type(element)))\n",
    "      print(element)\n",
    "      "
   ]
  },
  {
   "cell_type": "code",
<<<<<<< HEAD
   "execution_count": null,
   "metadata": {},
   "outputs": [],
=======
   "execution_count": 67,
   "metadata": {},
   "outputs": [
    {
     "data": {
      "text/plain": [
       "{\"<class 'unstructured.documents.elements.CompositeElement'>\": 19,\n",
       " \"<class 'unstructured.documents.elements.Table'>\": 3}"
      ]
     },
     "execution_count": 67,
     "metadata": {},
     "output_type": "execute_result"
    }
   ],
>>>>>>> bbe993de7b522d090d1e61c4bff15b0b157456d7
   "source": [
    "# Create a dictionary to store counts of each type\n",
    "category_counts = {}\n",
    "\n",
    "for element in raw_pdf_elements:\n",
    "    category = str(type(element))\n",
    "    if category in category_counts:\n",
    "        category_counts[category] += 1\n",
    "    else:\n",
    "        category_counts[category] = 1\n",
    "\n",
    "# Unique_categories will have unique elements\n",
    "unique_categories = set(category_counts.keys())\n",
    "category_counts"
   ]
  },
  {
   "cell_type": "code",
<<<<<<< HEAD
   "execution_count": null,
   "metadata": {},
   "outputs": [],
=======
   "execution_count": 68,
   "metadata": {},
   "outputs": [
    {
     "name": "stdout",
     "output_type": "stream",
     "text": [
      "3\n",
      "19\n"
     ]
    }
   ],
>>>>>>> bbe993de7b522d090d1e61c4bff15b0b157456d7
   "source": [
    "class Element(BaseModel):\n",
    "    type: str\n",
    "    text: Any\n",
    "\n",
    "\n",
    "# Categorize by type\n",
    "categorized_elements = []\n",
    "for element in raw_pdf_elements:\n",
    "    if \"unstructured.documents.elements.Table\" in str(type(element)):\n",
    "        categorized_elements.append(Element(type=\"table\", text=str(element)))\n",
    "    elif \"unstructured.documents.elements.CompositeElement\" in str(type(element)):\n",
    "        categorized_elements.append(Element(type=\"text\", text=str(element)))\n",
    "\n",
    "# Tables\n",
    "table_elements = [e for e in categorized_elements if e.type == \"table\"]\n",
    "print(len(table_elements))\n",
    "\n",
    "# Text\n",
    "text_elements = [e for e in categorized_elements if e.type == \"text\"]\n",
    "print(len(text_elements))"
   ]
  },
  {
   "cell_type": "code",
<<<<<<< HEAD
   "execution_count": null,
=======
   "execution_count": 69,
>>>>>>> bbe993de7b522d090d1e61c4bff15b0b157456d7
   "metadata": {},
   "outputs": [],
   "source": [
    "from langchain_text_splitters import CharacterTextSplitter\n",
    "\n",
    "\n",
    "# Categorize extracted elements from a PDF into tables and texts.\n",
    "tables = []\n",
    "texts = []\n",
    "for element in raw_pdf_elements:\n",
    "    if \"unstructured.documents.elements.Table\" in str(type(element)):\n",
    "        tables.append(str(element))\n",
    "    elif \"unstructured.documents.elements.CompositeElement\" in str(type(element)):\n",
    "        texts.append(str(element))\n",
    "\n",
    "# Optional: Enforce a specific token size for texts\n",
    "text_splitter = CharacterTextSplitter.from_tiktoken_encoder(\n",
    "    chunk_size=2000, chunk_overlap=200\n",
    ")\n",
    "joined_texts = \" \".join(texts)\n",
    "texts_4k_token = text_splitter.split_text(joined_texts)"
   ]
  },
  {
   "cell_type": "code",
<<<<<<< HEAD
   "execution_count": null,
=======
   "execution_count": 62,
   "metadata": {},
   "outputs": [],
   "source": [
    "key = \"sk-\""
   ]
  },
  {
   "cell_type": "code",
   "execution_count": 70,
>>>>>>> bbe993de7b522d090d1e61c4bff15b0b157456d7
   "metadata": {},
   "outputs": [],
   "source": [
    "from langchain.prompts import PromptTemplate\n",
    "from typing import List, Tuple\n",
    "from langchain_core.runnables import RunnableLambda, RunnablePassthrough\n",
    "from langchain_core.messages import AIMessage, HumanMessage\n",
    "from langchain_core.output_parsers import StrOutputParser\n",
    "from langchain_core.prompts import ChatPromptTemplate\n",
    "from langchain_openai import ChatOpenAI\n",
    "from langchain_core.output_parsers import StrOutputParser\n",
    "\n",
    "# Generate summaries of text elements\n",
    "def generate_text_summaries(\n",
    "    texts: List[str], tables: List[str], summarize_texts: bool = False\n",
    ") -> Tuple[List, List]:\n",
    "    \"\"\"\n",
    "    Summarize text elements\n",
    "    texts: List of str\n",
    "    tables: List of str\n",
    "    summarize_texts: Bool to summarize texts\n",
    "    \"\"\"\n",
    "\n",
    "    # Text summary chain\n",
    "    prompt_text = \"\"\"Bạn là 1 trợ lý với nhiệm vụ trích thông tin từ bảng \\\n",
    "    Đưa ra một bản ghi thông tin đầy đủ về bảng. Bảng: {element} \"\"\"\n",
    "    prompt = ChatPromptTemplate.from_template(prompt_text)\n",
    "\n",
    "    # Summary chain\n",
    "    model = ChatOpenAI(api_key=key,temperature=0, model=\"gpt-4\")\n",
    "    summarize_chain = {\"element\": lambda x: x} | prompt | model | StrOutputParser()\n",
    "\n",
    "    # Initialize empty summaries\n",
    "    text_summaries = []\n",
    "    table_summaries = []\n",
    "\n",
    "    # Apply to text if texts are provided and summarization is requested\n",
    "    if texts:\n",
    "        if summarize_texts:\n",
    "            text_summaries = summarize_chain.batch(texts, {\"max_concurrency\": 1})\n",
    "        else:\n",
    "            text_summaries = texts\n",
    "\n",
    "    # Apply to tables if tables are provided\n",
    "    if tables:\n",
    "        table_summaries = summarize_chain.batch(tables, {\"max_concurrency\": 1})\n",
    "\n",
    "    return text_summaries, table_summaries\n",
    "\n",
    "\n",
    "# Get text, table summaries\n",
    "text_summaries, table_summaries = generate_text_summaries(\n",
    "    texts_4k_token, tables, summarize_texts=False\n",
    ")"
   ]
  },
  {
   "cell_type": "code",
<<<<<<< HEAD
   "execution_count": null,
=======
   "execution_count": 71,
>>>>>>> bbe993de7b522d090d1e61c4bff15b0b157456d7
   "metadata": {},
   "outputs": [],
   "source": [
    "file_path = \"data/\"\n",
    "\n",
    "# Mở tệp văn bản để ghi\n",
    "with open(file_path+\"texts\", 'w', encoding='utf-8') as file:\n",
    "    for summary in text_summaries:\n",
    "        file.write(summary + \"\\n\")\n",
    "\n",
    "with open(file_path+\"tables\", 'w', encoding='utf-8') as file:\n",
    "    for summary in table_summaries:\n",
    "        file.write(summary + \"\\n\")"
   ]
  },
  {
   "cell_type": "code",
<<<<<<< HEAD
   "execution_count": null,
=======
   "execution_count": 41,
>>>>>>> bbe993de7b522d090d1e61c4bff15b0b157456d7
   "metadata": {},
   "outputs": [],
   "source": [
    "import uuid\n",
    "\n",
    "from langchain.retrievers.multi_vector import MultiVectorRetriever\n",
    "from langchain.storage import InMemoryStore\n",
    "from langchain_community.vectorstores import Chroma\n",
    "from langchain_core.documents import Document\n",
    "from langchain_openai import OpenAIEmbeddings\n",
    "\n",
    "# The vectorstore to use to index the child chunks\n",
    "vectorstore = Chroma(collection_name=\"summaries\", embedding_function=OpenAIEmbeddings(api_key= key))\n",
    "\n",
    "# The storage layer for the parent documents\n",
    "store = InMemoryStore()\n",
    "id_key = \"doc_id\"\n",
    "\n",
    "# The retriever (empty to start)\n",
    "retriever = MultiVectorRetriever(\n",
    "    vectorstore=vectorstore,\n",
    "    docstore=store,\n",
    "    id_key=id_key,\n",
    ")\n",
    "\n",
    "# Add texts\n",
    "doc_ids = [str(uuid.uuid4()) for _ in texts]\n",
    "summary_texts = [\n",
    "    Document(page_content=s, metadata={id_key: doc_ids[i]})\n",
    "    for i, s in enumerate(text_summaries)\n",
    "]\n",
    "retriever.vectorstore.add_documents(summary_texts)\n",
    "retriever.docstore.mset(list(zip(doc_ids, texts)))\n",
    "\n",
    "# Add tables\n",
    "table_ids = [str(uuid.uuid4()) for _ in tables]\n",
    "summary_tables = [\n",
    "    Document(page_content=s, metadata={id_key: table_ids[i]})\n",
    "    for i, s in enumerate(table_summaries)\n",
    "]\n",
    "retriever.vectorstore.add_documents(summary_tables)\n",
    "retriever.docstore.mset(list(zip(table_ids, tables)))"
   ]
  },
  {
   "cell_type": "code",
<<<<<<< HEAD
   "execution_count": null,
   "metadata": {},
   "outputs": [],
=======
   "execution_count": 45,
   "metadata": {},
   "outputs": [
    {
     "data": {
      "text/plain": [
       "'1 2 3 4 5 6 VIỆN ĐIỆN TỬ - VIỄN THÔNG Trưởng ban Phó ban Ủy viên Ủy viên Ủy viên Ủy viên PGS. Nguyễn Xuân Quyền ThS. Đào Lê Thu Thảo TS.Nguyễn Anh Quang TS. Đào Việt Hùng TS. Trần Thị Ngọc Lan TS. Hán Trọng Thanh quyen.nguyenxuan@hust.edu.v n thao.daolethu@hust.edu.vn quang.nguyenanh@hust.edu.vn hung.daoviet@hust.edu.vn lan.tranthingoc@hust.edu.vn thanh.hantrong@hust.edu.vn VIỆN CÔNG NGHỆ THÔNG TIN VÀ TRUYỀN THÔNG 1 2 3 4 5 6 7 8 Trưởng ban Phó ban minhnb@soict.hust.edu.vn TS. Nguyễn Bình Minh Ủy viên TS. Phạm Đăng Hải TS. Nguyễn Kim Khánh Ủy viên TS. Vũ Thị Hương Giang PGS. Nguyễn Linh Giang TS. Ngô Lam Trung TS. Nguyễn Thị Thu Trang PGS. Trương Thị Diệu Linh PGS. Cao Tuấn Dũng dungct@soict.hust.edu.vn haipd@soict.hust.edu.vn khanhnk@soict.hust.edu.vn Ủy viên giangvth@soict.hus.edu.vn Ủy viên giangnl@soict.hust.edu.vn Ủy viên trungnl@soict.hust.edu.vn Ủy viên trangntt@soict.hust.edu.vn 9 Ủy viên linhtd@soict.hust.edu.vn 10 PGS. Lê Thanh Hương 11 PGS. Đỗ Phan Thuận 12 TS. Hoàng Văn Hiệp 13 TS. Vũ Tuyết Trinh 14 TS. Nguyễn Phi Lê Ủy viên Ủy viên Ủy viên Ủy viên Ủy viên huonglt@soict.hust.edu.vn thuandp@soict.hust.edu.vn hiephv@soict.hust.edu.vn trinhvu@soict.hust.edu.vn lenp@soict.hust.edu.vn 15 ThS. Bành Thị Quỳnh Mai Ủy viên maibtq@soict.hust.edu.vn VIỆN TOÁN ỨNG DỤNG VÀ TIN HỌC 1 TS.Nguyễn Cảnh Nam nam.nguyencanh@hust.edu.vn 0912255217 0989708960 0934891168 0917515242 0904333428 0918641368 0983359425 0967995584 0913537715 0913585533 0766016898 0912725672 0968395999 0988088210 0948455961 0904674102 0915250680 0944840301 0983371753 0865488436 0912640079 0973941221'"
      ]
     },
     "execution_count": 45,
     "metadata": {},
     "output_type": "execute_result"
    }
   ],
   "source": [
    "tables[18]"
   ]
  },
  {
   "cell_type": "code",
   "execution_count": 46,
   "metadata": {},
   "outputs": [
    {
     "data": {
      "text/plain": [
       "'Bảng trên mô tả cấu trúc tổ chức của ba viện chính tại trường Đại học Bách Khoa Hà Nội, bao gồm Viện Điện tử - Viễn thông, Viện Công nghệ thông tin và truyền thông, và Viện Toán ứng dụng và tin học. Mỗi viện có các chức vụ như Trưởng ban, Phó ban, Ủy viên, PGS, TS và ThS, cùng với thông tin liên hệ của họ. Điều này giúp quản lý và tổ chức công việc hiệu quả trong các viện.'"
      ]
     },
     "execution_count": 46,
     "metadata": {},
     "output_type": "execute_result"
    }
   ],
   "source": [
    "table_summaries[18]"
   ]
  },
  {
   "cell_type": "code",
   "execution_count": 56,
   "metadata": {},
   "outputs": [
    {
     "data": {
      "text/plain": [
       "['1 2 3 4 5 6 VIỆN ĐIỆN TỬ - VIỄN THÔNG Trưởng ban Phó ban Ủy viên Ủy viên Ủy viên Ủy viên PGS. Nguyễn Xuân Quyền ThS. Đào Lê Thu Thảo TS.Nguyễn Anh Quang TS. Đào Việt Hùng TS. Trần Thị Ngọc Lan TS. Hán Trọng Thanh quyen.nguyenxuan@hust.edu.v n thao.daolethu@hust.edu.vn quang.nguyenanh@hust.edu.vn hung.daoviet@hust.edu.vn lan.tranthingoc@hust.edu.vn thanh.hantrong@hust.edu.vn VIỆN CÔNG NGHỆ THÔNG TIN VÀ TRUYỀN THÔNG 1 2 3 4 5 6 7 8 Trưởng ban Phó ban minhnb@soict.hust.edu.vn TS. Nguyễn Bình Minh Ủy viên TS. Phạm Đăng Hải TS. Nguyễn Kim Khánh Ủy viên TS. Vũ Thị Hương Giang PGS. Nguyễn Linh Giang TS. Ngô Lam Trung TS. Nguyễn Thị Thu Trang PGS. Trương Thị Diệu Linh PGS. Cao Tuấn Dũng dungct@soict.hust.edu.vn haipd@soict.hust.edu.vn khanhnk@soict.hust.edu.vn Ủy viên giangvth@soict.hus.edu.vn Ủy viên giangnl@soict.hust.edu.vn Ủy viên trungnl@soict.hust.edu.vn Ủy viên trangntt@soict.hust.edu.vn 9 Ủy viên linhtd@soict.hust.edu.vn 10 PGS. Lê Thanh Hương 11 PGS. Đỗ Phan Thuận 12 TS. Hoàng Văn Hiệp 13 TS. Vũ Tuyết Trinh 14 TS. Nguyễn Phi Lê Ủy viên Ủy viên Ủy viên Ủy viên Ủy viên huonglt@soict.hust.edu.vn thuandp@soict.hust.edu.vn hiephv@soict.hust.edu.vn trinhvu@soict.hust.edu.vn lenp@soict.hust.edu.vn 15 ThS. Bành Thị Quỳnh Mai Ủy viên maibtq@soict.hust.edu.vn VIỆN TOÁN ỨNG DỤNG VÀ TIN HỌC 1 TS.Nguyễn Cảnh Nam nam.nguyencanh@hust.edu.vn 0912255217 0989708960 0934891168 0917515242 0904333428 0918641368 0983359425 0967995584 0913537715 0913585533 0766016898 0912725672 0968395999 0988088210 0948455961 0904674102 0915250680 0944840301 0983371753 0865488436 0912640079 0973941221',\n",
       " 'Phòng khám đa khoa Bách Khoa ............................................................................... 69 Trung tâm Quản lý Ký túc xá ....................................................................................... 70 Trung tâm Phục vụ Bách Khoa ................................................................................... 71 Trung tâm Mạng thông tin ........................................................................................... 72 Nhà xuất bản Bách Khoa - Hà Nội .............................................................................. 73 Phòng Tuyển sinh ............................................................................................................ 74 Phòng Hợp tác đối ngoại ............................................................................................... 75 PHẦN 4: CÁC VIỆN ĐÀO TẠO Viện Cơ khí ......................................................................................................................... 77 Viện Cơ khí Động lực ...................................................................................................... 78 Viện KH&CN Nhiệt - Lạnh ............................................................................................. 79 Viện Điện ............................................................................................................................. 80 Viện Điện tử - Viễn thông ............................................................................................. 81 Viện CN Thông tin & Truyền thông .......................................................................... 82 Viện Toán ứng dụng & tin học .................................................................................... 83 Viện Kỹ thuật hóa học .................................................................................................... 84 Viện CN Sinh học - CN Thực phẩm ............................................................................ 85 Viện KH&CN Môi trường............................................................................................... 86 Viện KH & KT Vật liệu .................................................................................................... 87 Viện Dệt may - Da giầy và Thời trang ...................................................................... 88 Viện Sư phạm Kỹ thuật .................................................................................................. 89 Viện Vật lý kỹ thuật ......................................................................................................... 90 Viện Kinh tế và Quản lý ................................................................................................. 91 Viện Ngoại ngữ .................................................................................................................. 92 PHẦN 5: CHIA SẺ KINH NGHIỆM Hệ thống thông tin dành cho sinh viên ................................................................... 95 Học tập ................................................................................................................................. 97 Địa điểm vui chơi .......................................................................................................... 105 Ở trọ ................................................................................................................................... 108 Đi lại ................................................................................................................................... 111 Hoạt động ngoại khóa ................................................................................................ 115 Bạn bè, tình yêu ............................................................................................................. 122 PHẦN 6: NHẬT KÝ CÁ NHÂN',\n",
       " \"HỖ TRỢ ĐĂNG KÝ LƯU TRÚ\\n\\nCSAM-HUST là Hệ thống lưu trú trực tuyến, hỗ trợ cho sinh viên trong quá trình đăng ký lưu trú:\\n\\nĐăng ký ở trực tuyến tại KTX Bách  Khoa, KTX Pháp Vân và các cơ sở  lưu trú khác  Ứng dụng �ếp nhận và xử lý sự  cố, phản ánh 24/7  Dễ dàng �m kiếm và in  các biểu mẫu, đơn đăng  ký trực tuyến  CSAM-HUST  Quy mô trên 10.000 chỗ ở \\n\\n66- ninh tat ty, Ne ainh edi trBno, Dis nse va he hong, khic. AG tag uphain radia tute tuyén xU' LY NHANH cAc sy cé QUA HE THONG DICH VU KY TUC XA TRUC TUYEN KTX.HUST.EDU.VN\\n\\nSinh viên có nhu cầu ở có thể đăng ký trực tuyến tại: - Ký túc xá Bách Khoa: ktx.hust.edu.vn - Ký túc xá Pháp vân: csam.com.vn - Các kênh thông �n hỗ trợ: facebook.com/kytucxabkhn | facebook.com/csamvietnam Khi cần hỗ trợ, liên hệ: Phòng Công tác sinh viên, P.103 - C1. Email: ctsv@hust.edu.vn\\n\\n[m] [=] . -\\n\\n56\\n\\ncE\\n\\nPHẦN 2\\n\\nÐẢNG ỦY, ÐOÀN THANH NIÊN, HỘI SINH VIÊN\\n\\n—\\n\\n05\\n\\nÐẢNG ỦY Địa chỉ: C2 - 203 Điện thoại: 024. 3869 2743 | Email: dubk@hust.edu.vn\\n\\nTiếp nhận hồ sơ Đảng viên cho sinh viên mới nhập trường là Đảng viên; - Tiếp nhận và giới thiệu sinh hoạt của các đối tượng Đảng; - Chuyển sinh hoạt đảng cho sinh viên sau khi tốt nghiệp về địa phương hoặc cơ quan công tác.\\n\\nG N Ờ Ư R T P Ậ H N\\n\\nI\\n\\nH K H N R T Y U Q\\n\\nÌ\\n\\nBƯỚC 1\\n\\nĐảng viên làm bản tự kiểm điểm, xin xác nhận của Bí thư chi bộ. Phô tô giấy báo nhập học nộp về Đảng ủy phường (xã) nơi đang sinh hoạt Đảng để Đảng ủy phường (xã) viết giấy giới thiệu chuyển sinh hoạt Đảng. Giấy giới thiệu chuyển sinh hoạt Đảng ghi rõ: Nơi chuyển đến sinh hoạt Đảng: Đảng bộ trường ĐHBK Hà Nội Kính chuyển: Đảng ủy khối các trường ĐH, CĐ Hà Nội\\n\\n.\\n\\nBƯỚC 2\\n\\nĐảng viên nhận hồ sơ Đảng viên từ Đảng ủy phường (xã) nơi cư trú hoặc làm việc, chuyển về Đảng ủy khối các trường ĐH-CĐ Hà Nội tại số 1 Trần Phú, P. Văn Quán, Q.Hà Đông, Tp. Hà Nội (nhà 2C).\\n\\nB\\n\\nBƯỚC 3\\n\\nĐảng viên nhận lại hồ sơ đảng viên từ Đảng ủy Khối và nộp về Văn phòng Đảng ủy Trường.\\n\\nLưu ý: Lịch chuyển sinh hoạt đảng tại Đảng ủy Khối các trường ĐH, CĐ Hà Nội Các buổi sáng Thứ Ba, Thứ Tư và Thứ Năm hàng tuần, từ 8 giờ 30 đến 11 giờ.\\n\\n58\",\n",
       " 'CHIA SẺ GIÁ TRỊ CỐT LÕI\\n\\nChỉ cần là sinh viên, cựu sinh viên Đại học Bách Khoa Hà Nội hoặc công ty có nhu cầu tuyển dụng nhân lực Bách Khoa đăng kí thông tin là bạn đã trở thành thành viên của Mạng lưới tìm kiếm việc làm & tuyển dụng HustWork\\n\\nTạo điều kiện để Sinh viên tìm kiếm các thông tin hướng nghiệp và việc làm, đồng thời tạo điều kiện cho các Doanh nghiệp tìm kiếm các ứng viên phù hợp với vị trí tuyển dụng\\n\\nThông qua mạng lưới này, các thành viên có thể chia sẻ các thông tin để tìm kiếm việc làm & ứng viên, tìm kiếm những người có chung đam mê để cùng nhau hợp tác, phát triển.\\n\\nTÌM KIẾM THÔNG TIN HƯỚNG NGHIỆP VÀ VIỆC LÀM\\n\\nWORK.HUST.EDU.VN\\n\\nWORK.HUST.EDU.VN\\n\\nHOTLINE\\n\\n0243 869 2896\\n\\nDAI HOC BACH KHOA la mét trong cac trung 1665/QD-TTg ngay 30/10/2017 : phu vé viéc phé duyét Dé fe) vién khdéi n ighiép dén nam day tinh than khéi nghiép ky nang ve khdéi nghiép cho va co ché hoat dong khdi mang tinh dot pha vé nghiép\\n\\nĐẠI  H ỌC  BÁC H K HOA  HÀ N ỘI \\n\\n01 \\n\\n02 \\n\\n01\\n\\n02 \\n\\n02\\n\\nCÁC VIỆ N N GHI ÊN CỨU MICA, VJIIST, ICSE, ISUT, NAVIS, BMEC, AIST, ITIMS, ICEA, BKCS, ....\\n\\nĐỔI MỚI SÁNG TẠO\\n\\nK HÔNG GIA N BKH UP\\n\\n03\\n\\nVới ý tưởng biến BKHUP trở thành điểm trung tâm (HUB) đặt tại Bách khoa của Hệ sinh thái khởi nghiệp Việt Nam, BKHUP là tâm điểm cho các nhóm nghiên cứu trẻ, nhà sáng chế, nhà đầu tư, các tổ chức doanh nghiệp có thể làm việc, gặp gỡ, kết nối, cùng nhau khơi nguồn sáng tạo và phát triển.\\n\\n04\\n\\nKHI C ẦN HỖ TRỢ Phòng Công tác sinh viên Phòng Quản lý nghiên cứu Các Viện nghiên cứu\\n\\n54\\n\\n/\\n\\nO\\n\\nĐiểm tựa Yêu thương\\n\\nĐiểm tựa Yêu thương, tên gọi khác của Điểm hỗ trợ sinh viên, là một bộ phận của Phòng CTSV được thành lập vào ngày 26/3/2019 nhân kỷ niệm 88 năm ngày thành lập Đoàn TNCS Hồ Chí Minh, theo quyết định ngày 19/3/2019 của Hiệu trưởng trường ĐHBKHN.\\n\\nSứ mệnh của “Điểm tựa yêu thương” là tư vấn, gỡ rối và hỗ trợ giải quyết  những vấn đề liên quan tới tâm lý mà các bạn có thể gặp phải trong cuộc sống  sinh viên về học tập, sinh hoạt, �nh cảm, sức khỏe sinh sản, giới �nh…  \\n\\nĐến với Điểm tựa yêu thương các bạn sẽ được bày tỏ, chia sẻ những tâm tư thầm kín, vướng mắc, lo âu trong cuộc sống. Đồng thời, các bạn cũng sẽ có cơ hội được giúp đỡ các bạn sinh viên gặp khó khăn khác.\\n\\nHãy đến với “Điểm tựa yêu thương” để được sẻ chia. Hãy cùng Nhà trường chung tay xây dựng và phát triển “Điểm tựa yêu thương” thành một địa chỉ tư vấn �n cậy, an toàn, thân thiện với sinh viên.\\n\\nĐịa chỉ: Tầng 1 nhà kính Love Hust. Thời gian làm việc: Mở cửa theo lịch các ngày làm việc trong tuần Tư vấn tâm lý và gỡ rối: các ngày thứ 3 và thứ 5 hàng tuần, sáng từ 9h và chiều từ 14h30 (Các thầy cô và chuyên gia).']"
      ]
     },
     "execution_count": 56,
     "metadata": {},
     "output_type": "execute_result"
    }
   ],
>>>>>>> bbe993de7b522d090d1e61c4bff15b0b157456d7
   "source": [
    "retriever.invoke(\"hãy mô tả chi tiết cấu trúc tổ chức của ba viện chính tại trường Đại học Bách Khoa Hà Nội\")"
   ]
  },
  {
   "cell_type": "code",
<<<<<<< HEAD
   "execution_count": null,
=======
   "execution_count": 52,
>>>>>>> bbe993de7b522d090d1e61c4bff15b0b157456d7
   "metadata": {},
   "outputs": [],
   "source": [
    "from langchain_core.runnables import RunnablePassthrough\n",
    "\n",
    "# Prompt template\n",
    "template = \"\"\"Trả lời câu hỏi chỉ dựa trên ngữ cảnh sau, có thể bao gồm văn bản và bảng:\n",
    "{context}\n",
    "Question: {question}\n",
    "\"\"\"\n",
    "prompt = ChatPromptTemplate.from_template(template)\n",
    "\n",
    "# Option 1: LLM\n",
    "model = ChatOpenAI(api_key=key,temperature=0, model=\"gpt-3.5-turbo-0125\")\n",
    "# Option 2: Multi-modal LLM\n",
    "# model = GPT4-V or LLaVA\n",
    "\n",
    "# RAG pipeline\n",
    "chain = (\n",
    "    {\"context\": retriever, \"question\": RunnablePassthrough()}\n",
    "    | prompt\n",
    "    | model\n",
    "    | StrOutputParser()\n",
    ")"
   ]
  },
  {
   "cell_type": "code",
<<<<<<< HEAD
   "execution_count": null,
   "metadata": {},
   "outputs": [],
=======
   "execution_count": 54,
   "metadata": {},
   "outputs": [
    {
     "data": {
      "text/plain": [
       "'Ba viện chính tại trường Đại học Bách Khoa Hà Nội bao gồm:\\n1. Viện Công nghệ thông tin và Viễn thông:\\n- Trưởng ban: PGS. Nguyễn Xuân Quyền\\n- Phó ban: ThS. Đào Lê Thu Thảo\\n- Các Ủy viên: TS.Nguyễn Anh Quang, TS. Đào Việt Hùng, TS. Trần Thị Ngọc Lan, TS. Hán Trọng Thanh\\n- Email liên hệ: quyen.nguyenxuan@hust.edu.vn, thao.daolethu@hust.edu.vn, quang.nguyenanh@hust.edu.vn, hung.daoviet@hust.edu.vn, lan.tranthingoc@hust.edu.vn, thanh.hantrong@hust.edu.vn\\n\\n2. Viện Công nghệ thông tin và Truyền thông:\\n- Trưởng ban: TS. Nguyễn Bình Minh\\n- Phó ban: TS. Phạm Đăng Hải\\n- Các Ủy viên: TS. Nguyễn Kim Khánh, TS. Vũ Thị Hương Giang, PGS. Nguyễn Linh Giang, TS. Ngô Lam Trung, TS. Nguyễn Thị Thu Trang, PGS. Trương Thị Diệu Linh, PGS. Cao Tuấn Dũng\\n- Email liên hệ: minhnb@soict.hust.edu.vn, haipd@soict.hust.edu.vn, khanhnk@soict.hust.edu.vn, giangvth@soict.hus.edu.vn, giangnl@soict.hust.edu.vn, trungnl@soict.hust.edu.vn, trangntt@soict.hust.edu.vn, linhtd@soict.hust.edu.vn, huonglt@soict.hust.edu.vn, thuandp@soict.hust.edu.vn, hiephv@soict.hust.edu.vn, trinhvu@soict.hust.edu.vn, lenp@soict.hust.edu.vn, maibtq@soict.hust.edu.vn\\n\\n3. Viện Toán ứng dụng và Tin học:\\n- Trưởng ban: TS.Nguyễn Cảnh Nam\\n- Số điện thoại liên hệ: 0912255217, 0989708960, 0934891168, 0917515242, 0904333428, 0918641368, 0983359425, 0967995584, 0913537715, 0913585533, 0766016898, 0912725672, 0968395999, 0988088210, 0948455961, 0904674102, 0915250680, 0944840301, 0983371753, 0865488436, 0912640079, 0973941221\\n- Email liên hệ: nam.nguyencanh@hust.edu.vn\\n\\nĐây là cấu trúc tổ chức chi tiết của ba viện chính tại trường Đại học Bách Khoa Hà Nội.'"
      ]
     },
     "execution_count": 54,
     "metadata": {},
     "output_type": "execute_result"
    }
   ],
>>>>>>> bbe993de7b522d090d1e61c4bff15b0b157456d7
   "source": [
    "chain.invoke(\n",
    "    \"hãy mô tả chi tiết cấu trúc tổ chức của ba viện chính tại trường Đại học Bách Khoa Hà Nội?\"\n",
    ")"
   ]
  },
  {
   "cell_type": "code",
<<<<<<< HEAD
   "execution_count": null,
   "metadata": {},
   "outputs": [],
=======
   "execution_count": 57,
   "metadata": {},
   "outputs": [
    {
     "data": {
      "text/plain": [
       "'Số điện thoại và email của trưởng ban VIỆN CÔNG NGHỆ THÔNG TIN VÀ TRUYỀN THÔNG trường Đại học Bách Khoa Hà Nội là 0904234423 và hoa.buianh@hust.edu.vn.'"
      ]
     },
     "execution_count": 57,
     "metadata": {},
     "output_type": "execute_result"
    }
   ],
>>>>>>> bbe993de7b522d090d1e61c4bff15b0b157456d7
   "source": [
    "chain.invoke(\n",
    "    \"số điện thoại và email trưởng ban VIỆN CÔNG NGHỆ THÔNG TIN VÀ TRUYỀN THÔNG trường Đại học Bách Khoa Hà Nội?\"\n",
    ")"
   ]
<<<<<<< HEAD
  }
 ],
 "metadata": {
  "language_info": {
   "name": "python"
=======
  },
  {
   "cell_type": "code",
   "execution_count": null,
   "metadata": {},
   "outputs": [],
   "source": []
  }
 ],
 "metadata": {
  "kernelspec": {
   "display_name": ".venv",
   "language": "python",
   "name": "python3"
  },
  "language_info": {
   "codemirror_mode": {
    "name": "ipython",
    "version": 3
   },
   "file_extension": ".py",
   "mimetype": "text/x-python",
   "name": "python",
   "nbconvert_exporter": "python",
   "pygments_lexer": "ipython3",
   "version": "3.10.11"
>>>>>>> bbe993de7b522d090d1e61c4bff15b0b157456d7
  }
 },
 "nbformat": 4,
 "nbformat_minor": 2
}
